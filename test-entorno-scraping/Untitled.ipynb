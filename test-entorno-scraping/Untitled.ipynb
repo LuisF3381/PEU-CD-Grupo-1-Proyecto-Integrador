{
 "cells": [
  {
   "cell_type": "code",
   "execution_count": 6,
   "id": "c2949ae2-fbb7-436b-9735-090f9425c5ae",
   "metadata": {},
   "outputs": [],
   "source": [
    "import pandas as pd\n",
    "import glob\n",
    "import os"
   ]
  },
  {
   "cell_type": "code",
   "execution_count": 4,
   "id": "cca92122-192e-455c-aa42-8eb417c13cd8",
   "metadata": {},
   "outputs": [],
   "source": [
    "DATA_PATH = r\"D:\\Users\\JUANPORTELLA\\Documents\\PROYECTOS\\FINAL\\PEU-CD-Grupo-1-Proyecto-Integrador\\ipc-webscraping\\data\\raw\"\n",
    "FOLDER_NAME = \"pedidos_ya\""
   ]
  },
  {
   "cell_type": "code",
   "execution_count": 8,
   "id": "41b24456-8cef-40e8-955a-441bfc323b18",
   "metadata": {},
   "outputs": [],
   "source": [
    "files = glob.glob(os.path.join(DATA_PATH,FOLDER_NAME, \"*.csv\"))"
   ]
  },
  {
   "cell_type": "code",
   "execution_count": 9,
   "id": "e4ff8024-4c42-42ce-97e9-2b4ab925f40d",
   "metadata": {},
   "outputs": [
    {
     "data": {
      "text/plain": [
       "'D:\\\\Users\\\\JUANPORTELLA\\\\Documents\\\\PROYECTOS\\\\FINAL\\\\PEU-CD-Grupo-1-Proyecto-Integrador\\\\ipc-webscraping\\\\data\\\\raw\\\\pedidos_ya\\\\PedidosYa_04122024.csv'"
      ]
     },
     "execution_count": 9,
     "metadata": {},
     "output_type": "execute_result"
    }
   ],
   "source": []
  },
  {
   "cell_type": "code",
   "execution_count": 11,
   "id": "6226dc49-2e9a-4ea8-ae2b-176d1fd68af8",
   "metadata": {},
   "outputs": [],
   "source": [
    "df_pedidos_ya = pd.read_csv(files[-1])"
   ]
  },
  {
   "cell_type": "code",
   "execution_count": 12,
   "id": "4d0da60f-f612-402e-b7dd-ecd226c023fe",
   "metadata": {},
   "outputs": [
    {
     "data": {
      "text/html": [
       "<div>\n",
       "<style scoped>\n",
       "    .dataframe tbody tr th:only-of-type {\n",
       "        vertical-align: middle;\n",
       "    }\n",
       "\n",
       "    .dataframe tbody tr th {\n",
       "        vertical-align: top;\n",
       "    }\n",
       "\n",
       "    .dataframe thead th {\n",
       "        text-align: right;\n",
       "    }\n",
       "</style>\n",
       "<table border=\"1\" class=\"dataframe\">\n",
       "  <thead>\n",
       "    <tr style=\"text-align: right;\">\n",
       "      <th></th>\n",
       "      <th>Market_name</th>\n",
       "      <th>Category_name</th>\n",
       "      <th>Product_name</th>\n",
       "      <th>Product_description</th>\n",
       "      <th>Product_price</th>\n",
       "      <th>Scrape_timestamp</th>\n",
       "    </tr>\n",
       "  </thead>\n",
       "  <tbody>\n",
       "    <tr>\n",
       "      <th>0</th>\n",
       "      <td>Pedidos Ya Lince</td>\n",
       "      <td>Abarrotes</td>\n",
       "      <td>Cereal Angel Zuck Bolsa 1 kg</td>\n",
       "      <td>NaN</td>\n",
       "      <td>23.9</td>\n",
       "      <td>2024-12-04 13:17:36.629951</td>\n",
       "    </tr>\n",
       "    <tr>\n",
       "      <th>1</th>\n",
       "      <td>Pedidos Ya Lince</td>\n",
       "      <td>Abarrotes</td>\n",
       "      <td>Fideo Spaghetti Don Vittorio 950g</td>\n",
       "      <td>Contiene 950 gramos.\\nPasta de trigo.\\nTipo: S...</td>\n",
       "      <td>7.9</td>\n",
       "      <td>2024-12-04 13:17:36.629951</td>\n",
       "    </tr>\n",
       "    <tr>\n",
       "      <th>2</th>\n",
       "      <td>Pedidos Ya Lince</td>\n",
       "      <td>Abarrotes</td>\n",
       "      <td>Aceite Primor Vegetal Premium 900Ml</td>\n",
       "      <td>NaN</td>\n",
       "      <td>10.5</td>\n",
       "      <td>2024-12-04 13:17:36.629951</td>\n",
       "    </tr>\n",
       "    <tr>\n",
       "      <th>3</th>\n",
       "      <td>Pedidos Ya Lince</td>\n",
       "      <td>Abarrotes</td>\n",
       "      <td>Café Molido Explora Dark Roast 250 g</td>\n",
       "      <td>NaN</td>\n",
       "      <td>29.9</td>\n",
       "      <td>2024-12-04 13:17:36.629951</td>\n",
       "    </tr>\n",
       "    <tr>\n",
       "      <th>4</th>\n",
       "      <td>Pedidos Ya Lince</td>\n",
       "      <td>Abarrotes</td>\n",
       "      <td>Salsa Don Vittorio Roja Completa Doy Pack 400 g</td>\n",
       "      <td>Contiene 400 gramos.\\nSalsa a base de tomate c...</td>\n",
       "      <td>7.6</td>\n",
       "      <td>2024-12-04 13:17:36.629951</td>\n",
       "    </tr>\n",
       "  </tbody>\n",
       "</table>\n",
       "</div>"
      ],
      "text/plain": [
       "        Market_name Category_name  \\\n",
       "0  Pedidos Ya Lince     Abarrotes   \n",
       "1  Pedidos Ya Lince     Abarrotes   \n",
       "2  Pedidos Ya Lince     Abarrotes   \n",
       "3  Pedidos Ya Lince     Abarrotes   \n",
       "4  Pedidos Ya Lince     Abarrotes   \n",
       "\n",
       "                                      Product_name  \\\n",
       "0                     Cereal Angel Zuck Bolsa 1 kg   \n",
       "1                Fideo Spaghetti Don Vittorio 950g   \n",
       "2              Aceite Primor Vegetal Premium 900Ml   \n",
       "3             Café Molido Explora Dark Roast 250 g   \n",
       "4  Salsa Don Vittorio Roja Completa Doy Pack 400 g   \n",
       "\n",
       "                                 Product_description  Product_price  \\\n",
       "0                                                NaN           23.9   \n",
       "1  Contiene 950 gramos.\\nPasta de trigo.\\nTipo: S...            7.9   \n",
       "2                                                NaN           10.5   \n",
       "3                                                NaN           29.9   \n",
       "4  Contiene 400 gramos.\\nSalsa a base de tomate c...            7.6   \n",
       "\n",
       "             Scrape_timestamp  \n",
       "0  2024-12-04 13:17:36.629951  \n",
       "1  2024-12-04 13:17:36.629951  \n",
       "2  2024-12-04 13:17:36.629951  \n",
       "3  2024-12-04 13:17:36.629951  \n",
       "4  2024-12-04 13:17:36.629951  "
      ]
     },
     "execution_count": 12,
     "metadata": {},
     "output_type": "execute_result"
    }
   ],
   "source": [
    "df_pedidos_ya.head()"
   ]
  },
  {
   "cell_type": "code",
   "execution_count": 13,
   "id": "fa95cce6-bc49-4bdc-b6b7-c95a69ebe445",
   "metadata": {},
   "outputs": [],
   "source": [
    "files = glob.glob(os.path.join(DATA_PATH,\"metro\", \"*.csv\"))"
   ]
  },
  {
   "cell_type": "code",
   "execution_count": 16,
   "id": "947aab99-b905-4996-9a7e-91343b8e20fa",
   "metadata": {},
   "outputs": [
    {
     "data": {
      "text/plain": [
       "'D:\\\\Users\\\\JUANPORTELLA\\\\Documents\\\\PROYECTOS\\\\FINAL\\\\PEU-CD-Grupo-1-Proyecto-Integrador\\\\ipc-webscraping\\\\data\\\\raw\\\\metro\\\\metro_PANETÓN_20241203_190144.csv'"
      ]
     },
     "execution_count": 16,
     "metadata": {},
     "output_type": "execute_result"
    }
   ],
   "source": [
    "files[-1]"
   ]
  },
  {
   "cell_type": "code",
   "execution_count": 14,
   "id": "c6f7ae09-f11f-4b36-819f-c58c3890daf0",
   "metadata": {},
   "outputs": [],
   "source": [
    "df_tottus = pd.read_csv(files[-1])"
   ]
  },
  {
   "cell_type": "code",
   "execution_count": 18,
   "id": "03c8ba51-a8d4-4bfb-893c-85ddcb8cf157",
   "metadata": {},
   "outputs": [
    {
     "data": {
      "text/plain": [
       "array(['Panetón Gloria Doypack 900g',\n",
       "       'Panetón Tradicional Metro Bolsa 800g', 'Panetón Donofrio 880g',\n",
       "       \"Panetón D'Onofrio Caja 880g\", 'Panetón Blanca Flor Doypack 900g',\n",
       "       'Panetón Tradicional Máxima Doypack 800g',\n",
       "       'Panetón con Chispas Sabor Chocolate Cuisine & Co Doypack 90g',\n",
       "       'Panetón Buon Natale Doypack 750g',\n",
       "       'Panetón con Gotas Sabor Chocolate Chocotón Caja 450g',\n",
       "       'Panetón Gloria Caja 900g',\n",
       "       \"Panetón D'onofrio Panetoncito Caja 90g\",\n",
       "       'Panetón Blanca Flor Caja 900g', 'Panetón Donofrio Caja 1.3kg',\n",
       "       'Panetón Clásico Sayón Doypack 750g',\n",
       "       'Panetón con Gotas Sabor Chocolate Todinno Cioccolato 500g',\n",
       "       'Panetón Todinoo Bolsa 900g + Panetón Todinnito 85g',\n",
       "       \"Panetón D'onofrio Lata 880g Surtido\",\n",
       "       'Panetón Integral Unión Castañas Doypack 900g',\n",
       "       'Panetón Gloria Doypack 800g',\n",
       "       'Panetón Cuisine & Co Tradicional Doypack 800g',\n",
       "       'Panetón San Jorge Gran Panetón Caja 1.5kg',\n",
       "       \"Panetón Winter's Doypack 800g\",\n",
       "       'Panetón con Chispas Bimbo Panetoncito Doypack 90g',\n",
       "       \"Panetón de Lúcuma Ricco's Chocolúcuma Caja 500g\",\n",
       "       'Panetón Gloria Pasión Avellanas Caja 500g',\n",
       "       \"Panetón Integral D'onofrio Doypack 500g\",\n",
       "       'Panetón Bimbo Doypack 900g', 'Panetón Gloria Lata 900g',\n",
       "       'Panetón Relleno Chocotón Manjar Blanco Caja 450g',\n",
       "       'Panetón Clásico Sayón Caja 750g',\n",
       "       'Panetón Cuisine & Co Especial Caja 800g',\n",
       "       'Panetón con Chispas Sabor Chocolate Cuisine & Co Caja 500g',\n",
       "       'Panetón Relleno Bon o Bon 450g', \"Panetón D'Gussto Doypack 900g\",\n",
       "       'Panetón Bimbo Caja 900g',\n",
       "       'Panetón Gloria Pasión Sabor Algarrobina Caja 500g',\n",
       "       'Panetón Chocotón Relleno Doble Sabor a Chocolate Caja 450g',\n",
       "       'Panetón San Jorge Doypack 900g', 'Panetón Properzi Caja 1kg',\n",
       "       'Panetón Gloria Pasión con Chispas Sabor Chocolate Caja 500g',\n",
       "       'Panetón Bauducco Caja 750g',\n",
       "       \"Panetón Winter's Sin Pasas Sin Frutas Doypack 500g\",\n",
       "       'Panetón San Jorge Poessía Doypack 900g',\n",
       "       'Panetón con Chocolate Blanca Flor Caja 450g',\n",
       "       'Panetón Unión Doypack 900g',\n",
       "       \"Panetón Winter's Choco Chispas Doypack 500g\",\n",
       "       'Panetón Metro Bolsa 800g + Gaseosa Inca Kola Sin Azúcar 1.5L',\n",
       "       'Panetón Costa Doypack 800g', 'Panetón Integral Unión Caja 900g',\n",
       "       \"Panetón Andino Ricco's Kusi Raymi Caja 500g\",\n",
       "       'Panetón Buon Natale Caja 750g',\n",
       "       'Panetón Metro Bolsa 800g + Gaseosa Coca Cola 1.5L',\n",
       "       'Panetón Tradicional Wong Bolsa 800g',\n",
       "       'Panetón con Gotas Sabor Chocolate Bauducco Caja 680g',\n",
       "       'Panetón Metro Bolsa 800g + Gaseosa Inca Kola 1.5L',\n",
       "       'Panetón Vegano Cuisine & Co Caja 500g',\n",
       "       'Panetón Blanca Flor Doypack 900g + Espumante Chandon Extra Brut 750ml',\n",
       "       'Panetón con Trozos de Chocolate Properzi Caja 1kg',\n",
       "       'Panetón Costa Caja 800g',\n",
       "       'Panetón Integral con Higos y Pecanas Unión Diet Lata 500g',\n",
       "       'Panetón Metro Bolsa 800g + Gaseosa Coca Cola Sin Azúcar 1.5L',\n",
       "       'Panetón con Chips de Chocolate y Cerezas Properzi Tela 1kg',\n",
       "       'Panetón San Jorge Gran Panetón Caja 900g',\n",
       "       'Panetón Dal Colle Classico Caja 750g',\n",
       "       'Panetón Iluminato Caja 900g', 'Panetón Iluminato Doypack 900g',\n",
       "       'Panetón Arcor 450g', \"Sixpack Panetón D'Onofrio Caja 880g\",\n",
       "       'Sixpack Panetón Donofrio 880g',\n",
       "       'Sixpack Panetón Metro Tradicional Bolsa 800g',\n",
       "       'Sixpack Panetón Blanca Flor Doypack 900g',\n",
       "       'Sixpack Panetón Máxima Tradicional Doypack 800g',\n",
       "       'Pack Panetón Todinno: Caja 900g + Todinnito Caja 85g',\n",
       "       'Sixpack Panetón Blanca Flor Caja 900g',\n",
       "       'Sixpack Panetón Bimbo Doypack 900g',\n",
       "       'Mini Panetón Minions Caja 80g Surtido',\n",
       "       'Sixpack Panetón Bimbo Caja 900g',\n",
       "       'Twopack Panetón con Chocolate Blanca Flor Caja 450g',\n",
       "       'Sixpack Panetón Clásico Sayón Doypack 750g',\n",
       "       'Mini Panetón Donofrio Chocotoncito Bolsa 80g',\n",
       "       'Mini Panetón Gloria con Chispas Sabor Chocolate Doypack 90g',\n",
       "       'Sixpack Panetón Clásico Sayón Caja 750g',\n",
       "       'Mini Panetón Gloria Doypack 80g',\n",
       "       'Mini Panetón Relleno Bon o Bon 80g',\n",
       "       'Sixpack Panetón con Chocolate Blanca Flor Caja 450g',\n",
       "       'Mini Panetón Bauducco Frutas Caja 80g',\n",
       "       'Mini Panetón Bauducco Chocolate 80g',\n",
       "       'Sixpack Panetón Wong Tradicional Bolsa 800g',\n",
       "       'Mini Panetón Sapito Doypack 75g',\n",
       "       'Sixpack Pack Panetón Todinno: Caja 900g + Todinnito Caja 85g',\n",
       "       'Mini Panetón Nikolo Doypack 75g', 'Pasteles Gansito Minix 8un',\n",
       "       'Keke Sabor Vainilla Bimbo Bimbolete Minix 10un.',\n",
       "       'Pasteles Pingüino Minix Triple Sabor Chocolate 10un',\n",
       "       'Keke Bimboletes Minix Chispas Sabor Chocolate 10un',\n",
       "       \"Pandulce D'Onofrio Doypack 490g\",\n",
       "       'Turron de Doña Pepa Gustozzi 3un',\n",
       "       'Keke Sabor Vainilla PYC Kekitos 3un',\n",
       "       'Keke Marmoleado Bimbo Paquete 380 g',\n",
       "       'Keke Naranja Bimbo Paquete 380 g',\n",
       "       'Keke Sabor Naranja PYC Kekitos 3un',\n",
       "       'Keke Sabor Vainilla Bimbolete Bimbo Paquete 3 unid',\n",
       "       'Keke Bimboletes Chispas Sabor Chocolate 3un',\n",
       "       'Reyenito Bizcocho Chocolate 4 Pack', 'Kekitos Todinno 2un',\n",
       "       'Pandoro Properzi Caja 1kg',\n",
       "       'Keke Sabor Chocolate Relleno con Crema Pingüinos Marinela Paquete 2 unid',\n",
       "       'Brownie Clásico Nutra Bien 4un',\n",
       "       'Pasteles Pingüino Triple Sabor Chocolate 80g',\n",
       "       'Brownie Nutra Bien Mini 6un', 'Brownie Chip Nutra Bien 4un',\n",
       "       'Brownies Gustozzi Clásicos 3un',\n",
       "       'Keke Bimbo Bimbolete Marmoleado 3un',\n",
       "       'Brownie Gustozzi Toppings 3un',\n",
       "       'Pandoro Dal Colle Doppio Cioccolato Caja 500g',\n",
       "       'Brownichoc Nutra Bien 4un', 'Brownies Gustozzi Selección 3un',\n",
       "       'Kekes Sabor Limón Mr Brownie 8un',\n",
       "       'Brownies Gustozzi Princesa 50g', 'Blondies Mr Brownie 8un',\n",
       "       'Brownies Galáctivos Mr Brownies 8un', 'Kekitos Gustozzito 3un'],\n",
       "      dtype=object)"
      ]
     },
     "execution_count": 18,
     "metadata": {},
     "output_type": "execute_result"
    }
   ],
   "source": [
    "df_tottus[\"description\"].values"
   ]
  },
  {
   "cell_type": "code",
   "execution_count": null,
   "id": "9d5c114b-7498-4be3-b8b1-c53be75014a6",
   "metadata": {},
   "outputs": [],
   "source": [
    "#Panetón\n",
    "Mini Panetón\n",
    "Sixpack Panetón\n",
    "Pack Panetón\n",
    "Panetón"
   ]
  },
  {
   "cell_type": "code",
   "execution_count": 31,
   "id": "6d77c8b1-3559-4cc8-80ec-be4a88f698b3",
   "metadata": {},
   "outputs": [],
   "source": [
    "df_tottus = pd.read_csv(files[-2])"
   ]
  },
  {
   "cell_type": "code",
   "execution_count": 34,
   "id": "12d0790e-fea5-4a2b-8fe6-b3280805de0f",
   "metadata": {},
   "outputs": [
    {
     "data": {
      "text/plain": [
       "array(['Bebida Rehidratante Gatorade Pack 6 Unid x 500ml',\n",
       "       'Bebida Rehidratante Sporade Pack Surtido 6un x 500ml',\n",
       "       'Bebida Rehidratante Gatorade Monosabor Pack 6 Unid x 500ml',\n",
       "       'Bebida Rehidratante Gatorade Tropical Botella 1 Litro',\n",
       "       'Bebida Rehidratante Gatorade Mandarina Botella 500ml',\n",
       "       'Bebida Rehidratante Gatorade Cool Blue Botella 500ml',\n",
       "       'Bebida Rehidratante Gatorade Apple Ice Botella 500ml',\n",
       "       'Bebida Rehidratante Suerox Manzana Botella 630ml',\n",
       "       'Bebida Rehidratante Gatorade Tropical Botella 500ml',\n",
       "       'Bebida Rehidratante Gatorade Apple Ice Botella 750ml',\n",
       "       'Bebida Rehidratante Sin Azúcar Sporade Apple Ice Botella 500ml',\n",
       "       'Bebida Rehidratante Suerox Sabor Naranja - Mandarina Botella 630ml',\n",
       "       'Bebida Rehidratante Gatorade Mandarina Botella 750ml',\n",
       "       'Bebida Rehidratante Sin Azúcar Sporade Tropical Botella 500ml',\n",
       "       'Bebida Rehidratante Suerox Kiwi Botella 630ml',\n",
       "       'Bebida Rehidratante Sporade Mandarina Botella 500 ml',\n",
       "       'Bebida Rehidratante Powerade Multifrutas Botella 1L',\n",
       "       'Bebida Rehidratante Sporade Tropical Botella 1L',\n",
       "       'Bebida Rehidratante Sporade Uva Botella 500ml',\n",
       "       'Bebida Rehidratante Suerox Mora Azul Botella 630ml',\n",
       "       'Bebida Rehidratante Gatorlit Recover Uva Botella 591ml',\n",
       "       'Bebida Rehidratante Powerade Mora Botella 1.5L',\n",
       "       'Bebida Rehidratante Gatorlit Recover Naranja Botella 591ml',\n",
       "       'Bebida Rehidratante Gatorade Tropical Botella 750ml',\n",
       "       'Bebida Rehidratante Powerade Maracuyá Botella 600ml',\n",
       "       'Bebida Rehidratante Gatorlit Recover Fresa Kiwi Botella 591ml',\n",
       "       'Bebida Rehidratante Sporade Tropical Botella 500ml',\n",
       "       'Bebida Rehidratante Powerade Multifrutas Botella 1.5L',\n",
       "       'Bebida Rehidratante Powerade Mora Botella 600ml',\n",
       "       'Bebida Rehidratante Sporade Blueberry Botella 500 ml',\n",
       "       'Bebida Rehidratante Electrolight Fresa Botella 473 ml',\n",
       "       'Bebida Rehidratante Electrolight Granadilla Botella 475 ml',\n",
       "       'Bebida con Electrolitos Electrolife Fresa Kiwi Botella 625ml',\n",
       "       'Bebida Rehidratante Powerade Multifrutas Botella 600ml',\n",
       "       'Bebida Rehidratante Powerade Limón Botella 600ml',\n",
       "       'Bebida Rehidratante Flashlyte Fresa Botella 625ml',\n",
       "       'Bebida con Electrolitos Electrolife Uva Botella 625ml',\n",
       "       'Bebida Rehidratante Flashlyte Uva Botella 625ml',\n",
       "       'Bebida con Electrolitos Electrolife Fresa Botella 625ml',\n",
       "       'Rehidratante Sporade Pet 1.5L Tropical',\n",
       "       'Rehidratante Powerade Uva Botella 600ml',\n",
       "       'REHIDRATANTE SUEROX 630ML , FRUTOS ROJOS',\n",
       "       'Pack x12 Sporade Surtido Pet 500ml',\n",
       "       'Fourpack Bebida Rehidratante Suerox Mix Botella 630ml',\n",
       "       'Sixpack Bebida Rehidratante Powerade Multisabores Botella 600ml',\n",
       "       'Electrolight 3 Sabores Six Pack Botella 475 ml c/u - ELECTRO 6P 3 SAB',\n",
       "       'Sixpack Bebida Rehidratante Powerade Surtido Mix 600ml',\n",
       "       'Fourpack Bebida Rehidratante Suerox Fresa Botella 630ml',\n",
       "       'Fourpack Bebida Rehidratante Suerox Mora Botella 630ml',\n",
       "       'Sixpack Bebida Rehidratante Powerade Uva Botella 600ml',\n",
       "       'Sixpack Rehidratante Powerade Multifrutas Botella 600ml',\n",
       "       'Sixpack Rehidratante Powerade Mora Botella 600ml'], dtype=object)"
      ]
     },
     "execution_count": 34,
     "metadata": {},
     "output_type": "execute_result"
    }
   ],
   "source": [
    "df_tottus[\"description\"].values"
   ]
  },
  {
   "cell_type": "code",
   "execution_count": null,
   "id": "cc214c1b-1ef3-43d3-930a-b15f540256ea",
   "metadata": {},
   "outputs": [],
   "source": []
  },
  {
   "cell_type": "code",
   "execution_count": null,
   "id": "242b0061-6202-4d59-a0c6-1f79e8a3890b",
   "metadata": {},
   "outputs": [],
   "source": []
  }
 ],
 "metadata": {
  "kernelspec": {
   "display_name": "Python 3 (ipykernel)",
   "language": "python",
   "name": "python3"
  },
  "language_info": {
   "codemirror_mode": {
    "name": "ipython",
    "version": 3
   },
   "file_extension": ".py",
   "mimetype": "text/x-python",
   "name": "python",
   "nbconvert_exporter": "python",
   "pygments_lexer": "ipython3",
   "version": "3.12.4"
  }
 },
 "nbformat": 4,
 "nbformat_minor": 5
}
